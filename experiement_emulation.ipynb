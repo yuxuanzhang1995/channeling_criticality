{
 "cells": [
  {
   "cell_type": "code",
   "execution_count": 1,
   "id": "8e1dae2c-31ef-426f-ac8f-5c6cf1639f0a",
   "metadata": {},
   "outputs": [
    {
     "name": "stderr",
     "output_type": "stream",
     "text": [
      "/opt/anaconda3/envs/py311/lib/python3.11/site-packages/cotengra/hyperoptimizers/hyper.py:33: UserWarning: Couldn't import `kahypar` - skipping from default hyper optimizer and using basic `labels` method instead.\n",
      "  warnings.warn(\n"
     ]
    }
   ],
   "source": [
    "import numpy as np\n",
    "import math\n",
    "#from scipy import linalg as la\n",
    "from numpy import linalg as la\n",
    "import random\n",
    "import itertools\n",
    "from ed import*\n",
    "import time\n",
    "# here is the noise circuit\n",
    "from cft_functions import*"
   ]
  },
  {
   "cell_type": "code",
   "execution_count": 320,
   "id": "d7967843-07a2-47b6-b793-c01af2c4e6c2",
   "metadata": {},
   "outputs": [],
   "source": [
    "def ising_gs(num_qubits):\n",
    "    H = build_TFIZ(num_qubits,-1,-1,0,pbc=True).todense()\n",
    "    evl, evcs = la.eigh(H)\n",
    "    psi_gs = np.array(evcs[:,0])\n",
    "    U = evcs\n",
    "    return psi_gs\n",
    "\n",
    "def reduced_dm(num_qubits,sub_size,basis = 'x',p = 0):\n",
    "    psi_gs = ising_gs(num_qubits)\n",
    "    inds = (f'{i}' for i in range(num_qubits))\n",
    "    psi = qtn.Tensor(psi_gs.reshape([2]*num_qubits), inds)\n",
    "    inds_reduced = tuple([str(i) for i in range(num_qubits-sub_size,num_qubits)])\n",
    "    return partial_dm_dephasing(psi, inds_reduced,p = p, basis = basis).data\n",
    "\n",
    "def pt_moment(rho,sub_size,tp_size = 0,order = 2, ob = np.eye(2)):\n",
    "    ob_total = np.kron(ob,np.identity(2**(sub_size-1)))\n",
    "    rho_cp = rho.copy()\n",
    "    for i in range (tp_size):\n",
    "        rho_cp = rho_cp.swapaxes(i,i+sub_size)\n",
    "    rho_reshaped = rho_cp.reshape(2**(sub_size), 2**(sub_size))\n",
    "    prod = rho_reshaped.copy()@ob_total\n",
    "    for i in range (order-1):\n",
    "        prod = prod@rho_reshaped@ob_total\n",
    "    return prod\n",
    "    \n",
    "def pt_moment_normalized(num_qubits,sub_size,tp_size = 0,order = 2,basis = 'x',p = 0, ob= np.eye(2)):\n",
    "    '''\n",
    "    ob: whether adding a observable\n",
    "    basis: direction of channeling\n",
    "    sub_size: size of the subsystem\n",
    "    tp_size: transpose the qubits within this size\n",
    "    '''\n",
    "    rho = reduced_dm(num_qubits,sub_size, basis = basis,p = p)\n",
    "\n",
    "    pt_mo = pt_moment(rho,sub_size,tp_size = tp_size,order = order,ob = ob)\n",
    "    norm = pt_moment(rho,sub_size,tp_size = 0,order = order)\n",
    "\n",
    "    return np.trace(pt_mo)/np.trace(norm)"
   ]
  },
  {
   "cell_type": "markdown",
   "id": "681cad25-8d24-473c-a2d1-0e8e866f3904",
   "metadata": {},
   "source": [
    "## Preparing the state\n",
    "The final target is to measure \n",
    "$${\\rm Tr}(\\rho X_1 \\rho X_1)/{\\rm Tr}(\\rho^2)$$ \n",
    "where rho is a ground state vector channeled by depolarizing noise in a certain direction "
   ]
  },
  {
   "cell_type": "code",
   "execution_count": 78,
   "id": "15e7661b-02bd-4b1b-a877-3105dc029cda",
   "metadata": {},
   "outputs": [
    {
     "name": "stderr",
     "output_type": "stream",
     "text": [
      "-7.587366467670501: 100%|██████████████████████████████████████████████████████| 2000/2000 [00:09<00:00, 220.12it/s]\n",
      "-7.594599185379394: 100%|██████████████████████████████████████████████████████| 2000/2000 [00:08<00:00, 226.82it/s]\n",
      "-7.726943075260849: 100%|██████████████████████████████████████████████████████| 2000/2000 [00:12<00:00, 154.48it/s]\n",
      "-7.726943080031223: 100%|██████████████████████████████████████████████████████| 2000/2000 [00:12<00:00, 156.66it/s]\n"
     ]
    }
   ],
   "source": [
    "#Implement a vqe circuit\n",
    "\n",
    "# Nov. 12\n",
    "#@YZhang\n",
    "import quimb.tensor as qtn\n",
    "import quimb as qu\n",
    "import torch\n",
    "from vqe_functions import*\n",
    "import quimb.tensor as qtn\n",
    "import quimb as qu\n",
    "import pickle \n",
    "from numpy import array\n",
    "\n",
    "L= num_qubits = 6\n",
    "depth_initial = 1\n",
    "depth_final = 3\n",
    "depth_step = 1\n",
    "\n",
    "def energy_fn(psi):\n",
    "    # compute the total energy, here quimb handles constructing \n",
    "    # and contracting all the appropriate lightcones \n",
    "\n",
    "    for i in range (L):\n",
    "        psi = psi&psi_pqc.tensors[i]\n",
    "    psi_H = psi.H\n",
    "    for i in range(L):\n",
    "        psi_H  = psi_H.reindex({f'k{i}':f'b{i}'})\n",
    "    return torch.real((psi_H &H& psi).contract(all,optimize = opti))\n",
    "\n",
    "\n",
    "class TNModel_energy(torch.nn.Module):\n",
    "\n",
    "    def __init__(self, tn):\n",
    "        super().__init__()\n",
    "        # extract the raw arrays and a skeleton of the TN\n",
    "        params, self.skeleton = qtn.pack(tn)\n",
    "        # n.b. you might want to do extra processing here to e.g. store each\n",
    "        # parameter as a reshaped matrix (from left_inds -> right_inds), for \n",
    "        # some optimizers, and for some torch parametrizations\n",
    "        self.torch_params = torch.nn.ParameterDict({\n",
    "            # torch requires strings as keys\n",
    "            str(i): torch.nn.Parameter(initial)\n",
    "            for i, initial in params.items()\n",
    "        })\n",
    "\n",
    "    def forward(self):\n",
    "        # convert back to original int key format\n",
    "        params = {int(i): p for i, p in list(self.torch_params.items())}\n",
    "        # reconstruct the TN with the new parameters\n",
    "        psi = qtn.unpack(params, self.skeleton)\n",
    "        # isometrize and then return the energy\n",
    "        return energy_fn(norm_fn(psi))\n",
    "        \n",
    "for depth in range(depth_initial,depth_final,depth_step):\n",
    "    if depth == depth_initial:\n",
    "        rd = True\n",
    "    else:\n",
    "        rd = False \n",
    "    psi_pqc = qmps_f(L, in_depth= depth, n_Qbit=num_qubits-1, qmps_structure=\"pollmann\", canon=\"left\",val_iden = 0.000,rand = rd)\n",
    "    psi = psi_pqc.tensors[L]\n",
    "    for i in range (L+1,len(psi_pqc.tensors)):\n",
    "        psi = psi&psi_pqc.tensors[i]\n",
    "        \n",
    "    psi_pqc.apply_to_arrays(lambda x: torch.tensor(x, dtype=torch.complex128))\n",
    "    psi.apply_to_arrays(lambda x: torch.tensor(x, dtype=torch.complex128))\n",
    "    \n",
    "    if depth!= depth_initial:\n",
    "        psi_c = psi.copy()\n",
    "        psi_nm = load_para(psi_c, dictionary)\n",
    "    \n",
    "    Ham = np.array(build_TFIZ(num_qubits,-1,-1,0,pbc=True).todense())\n",
    "    inds = [f'k{i}' for i in range(num_qubits)]+[f'b{i}' for i in range(num_qubits)]\n",
    "    H = qtn.Tensor(Ham.reshape([2]*2*num_qubits),tuple(inds))\n",
    "    H.apply_to_arrays(lambda x: torch.tensor(x, dtype=torch.complex128))\n",
    "    \n",
    "    #E = Variable(torch.tensor(-30, dtype=torch.complex128), requires_grad=True)\n",
    "    if depth== depth_initial:\n",
    "        psi_nm = psi\n",
    "        model = TNModel_energy(psi_nm)\n",
    "    else:\n",
    "        model= TNModel_energy(psi_nm)\n",
    "    \n",
    "    import warnings\n",
    "    from torch import optim\n",
    "    with warnings.catch_warnings():\n",
    "        warnings.filterwarnings(\n",
    "            action='ignore',\n",
    "            message='.*trace might not generalize.*',\n",
    "        )\n",
    "        model = torch.jit.trace_module(model, {\"forward\": []})\n",
    "        \n",
    "    import torch_optimizer\n",
    "    import tqdm\n",
    "    \n",
    "    lrs = [0.001,0.0001]\n",
    "    for lr in lrs:\n",
    "        optimizer = optim.Adam(model.parameters(), lr=lr)\n",
    "        scheduler = torch.optim.lr_scheduler.StepLR(optimizer,step_size=250, gamma=0.5)\n",
    "        its = 2000\n",
    "        pbar = tqdm.tqdm(range(its),disable=False)\n",
    "        \n",
    "        for _ in pbar:\n",
    "            show_progress_bar=False\n",
    "            optimizer.zero_grad()\n",
    "            loss = model()\n",
    "            loss.backward()\n",
    "            def closure():\n",
    "                return loss\n",
    "            optimizer.step()\n",
    "            pbar.set_description(f\"{loss}\")\n",
    "            progress_bar_refresh_rate=0\n",
    "    k = 0\n",
    "    dictionary = save_para(psi_nm)\n",
    "    with open(f'mps_parameters/ising_critical_vqe_ladder_L{L}_depth{depth}.pkl', 'wb') as f:\n",
    "        pickle.dump(dictionary, f)"
   ]
  },
  {
   "cell_type": "code",
   "execution_count": 4,
   "id": "b8c355d9-8007-40ce-80ba-d431ff770d69",
   "metadata": {},
   "outputs": [
    {
     "name": "stdout",
     "output_type": "stream",
     "text": [
      "relative energy difference:  -5.999351188298e-05\n"
     ]
    }
   ],
   "source": [
    "# check energy overlap\n",
    "H = build_TFIZ(num_qubits,-1,-1,0,pbc=True).todense()\n",
    "evl, evcs = la.eigh(H)\n",
    "evl[0]\n",
    "print('relative energy difference: ', (loss.float().detach().numpy()- evl[0])/evl[0])"
   ]
  },
  {
   "cell_type": "markdown",
   "id": "71b89a17-6f1d-457c-9612-16b557523465",
   "metadata": {},
   "source": [
    "## Qiskit emulation functions of the experiment"
   ]
  },
  {
   "cell_type": "code",
   "execution_count": 309,
   "id": "fc747828-4d9c-47c4-b676-054425a136e2",
   "metadata": {},
   "outputs": [],
   "source": [
    "# synthesis circuit\n",
    "import qiskit\n",
    "from qiskit import QuantumCircuit,QuantumRegister,ClassicalRegister,Aer\n",
    "from qiskit.quantum_info.operators import Operator\n",
    "from qiskit.providers.aer import AerSimulator\n",
    "# Select the AerSimulator from the Aer provider\n",
    "\n",
    "from qiskit_aer.noise import (NoiseModel, QuantumError, ReadoutError,\n",
    "    pauli_error, depolarizing_error, thermal_relaxation_error)\n",
    "from scipy.stats import unitary_group\n",
    "from qiskit.extensions import UnitaryGate\n",
    "tensor_list = (norm_fn(psi_nm)).tensors[:]\n",
    "nb = num_qubits-1\n",
    "\n",
    "def cft_circ(num_qubits, tensor_list, observables,qmps_structure=\"pollmann\", p_device = 0, p_channel = 0, channel_basis ='X'):\n",
    "    # the ladder version\n",
    "    q= QuantumRegister(num_qubits)\n",
    "    c= ClassicalRegister(num_qubits)\n",
    "    circ= QuantumCircuit(q, c)\n",
    "    cnt = 0\n",
    "    \n",
    "    #for l in range(L):\n",
    "    for d in range (depth):\n",
    "        if qmps_structure==\"pollmann\":\n",
    "            for i in range(0,num_qubits-1,1):\n",
    "                U = UnitaryGate(tensor_list[cnt].data.reshape(4,4).T, label = 'U')\n",
    "                #Decomposed =  qiskit.quantum_info.synthesis.TwoQubitWeylDecomposition(U, fidelity=0.999999999, )\n",
    "                #a = Decomposed.circuit()\n",
    "                circ.append(U, [q[i+1],q[i]])\n",
    "                #circ = circ.compose(Decomposed.circuit(), [q[(i+1+l)%(nb+1)],q[(i+l)%(nb+1)]])\n",
    "                cnt += 1\n",
    "        else:\n",
    "            if d%2 == 0:\n",
    "                for i in range(0,num_qubits-1,2):\n",
    "                    U = UnitaryGate(tensor_list[cnt].data.reshape(4,4).T, label = 'U')\n",
    "                    #Decomposed =  qiskit.quantum_info.synthesis.TwoQubitWeylDecomposition(U, fidelity=0.999999999, )\n",
    "                    #a = Decomposed.circuit()\n",
    "                    circ.append(U, [q[i+1],q[i]])\n",
    "                    #circ = circ.compose(Decomposed.circuit(), [q[(i+1+l)%(nb+1)],q[(i+l)%(nb+1)]])\n",
    "                    cnt += 1\n",
    "            else: \n",
    "                for i in range(1,num_qubits-1,2):\n",
    "                    U = UnitaryGate(tensor_list[cnt].data.reshape(4,4).T,label = 'U')\n",
    "                    circ.append(U, [q[i+1],q[i]])\n",
    "                    cnt += 1\n",
    "\n",
    "    simulator = Aer.get_backend('statevector_simulator')\n",
    "    for l in range(num_qubits):\n",
    "        circ.id(q[l])\n",
    "        \n",
    "        if observables[l] == 0:\n",
    "            circ.h(q[l])\n",
    "            \n",
    "        elif observables[l] == 1:\n",
    "            circ.sdg(q[l])\n",
    "            circ.h(q[l])#rotating into y-basis\n",
    "            # Create a Quantum Program for execution\n",
    "        circ.measure(q[l],c[l])\n",
    "    result = simulator.run(circ,shots= 1,noise_model=get_noise(p_device, p_channel,n_qubit= 2,channel_basis = channel_basis)).result()\n",
    "    #result = simulator.run(circ,shots= 1,noise_model=None).result()\n",
    "\n",
    "    counts = result.get_counts(circ)\n",
    "    strings = np.array([int(i) for i in list(counts.keys())[0]][::-1])*(-2)+1\n",
    "    return strings\n",
    "    #return circ,q,c\n",
    "    \n",
    "def circ_meas(circ, q, c, observables, qum_qubits, p_device = 0, p_channel = 0, channel_basis ='X'):\n",
    "    #simulator = Aer.get_backend('aer_simulator')\n",
    "    simulator = Aer.get_backend('aer_simulator')\n",
    "    for l in range(num_qubits):\n",
    "        if observables[l] == 0:\n",
    "            circ.h(q[l])\n",
    "        elif observables[l] == 1:\n",
    "            circ.sdg(q[l])\n",
    "            circ.h(q[l])#rotating into y-basis\n",
    "            # Create a Quantum Program for execution\n",
    "        circ.id(q[l])\n",
    "        circ.measure(q[l],c[l])\n",
    "    result = simulator.run(circ,shots= 1,noise_model=get_noise(p_device, p_channel,n_qubit= 2,channel_basis = channel_basis)).result()\n",
    "    #result = simulator.run(circ,shots= 1,noise_model=None).result()\n",
    "\n",
    "    counts = result.get_counts(circ)\n",
    "    strings = np.array([int(i) for i in list(counts.keys())[0]][::-1])*(-2)+1\n",
    "    return strings"
   ]
  },
  {
   "cell_type": "markdown",
   "id": "d0c2a860-7e36-4d25-9060-19420145fcb8",
   "metadata": {},
   "source": [
    "## Simulation shots and data processing\n",
    "\n",
    "This example shows the calculation of Tr($\\rho X_1 \\rho X_1$)"
   ]
  },
  {
   "cell_type": "code",
   "execution_count": 315,
   "id": "4c1e1a8c-6664-4bbc-b43f-193d57b8383c",
   "metadata": {
    "scrolled": true
   },
   "outputs": [],
   "source": [
    "def calculate_classical_shadow(circuit_template, tensor_list, shadow_size, num_qubits, p_device = 0, p_channel = 0, channel_basis ='X'):\n",
    "    \"\"\"\n",
    "    Given a circuit, creates a collection of snapshots consisting of a bit string\n",
    "    and the index of a unitary operation.\n",
    "\n",
    "    Args:\n",
    "        circuit_template (function): A Pennylane QNode.\n",
    "        params (array): Circuit parameters.\n",
    "        shadow_size (int): The number of snapshots in the shadow.\n",
    "        num_qubits (int): The number of qubits in the circuit.\n",
    "\n",
    "    Returns:\n",
    "        Tuple of two numpy arrays. The first array contains measurement outcomes (-1, 1)\n",
    "        while the second array contains the index for the sampled Pauli's (0,1,2=X,Y,Z).\n",
    "        Each row of the arrays corresponds to a distinct snapshot or sample while each\n",
    "        column corresponds to a different qubit.\n",
    "    \"\"\"\n",
    "    # applying the single-qubit Clifford circuit is equivalent to measuring a Pauli\n",
    "\n",
    "    # sample random Pauli measurements uniformly, where 0,1,2 = X,Y,Z\n",
    "    unitary_ids = np.random.randint(0, 3, size=(shadow_size, num_qubits))\n",
    "    outcomes = np.zeros((shadow_size, num_qubits))\n",
    "\n",
    "    for ns in range(shadow_size):\n",
    "        # for each snapshot, add a random Pauli observable at each location\n",
    "        obs = [int(unitary_ids[ns, i]) for i in range(num_qubits)]\n",
    "        #circ, q, c, = circuit_template(num_qubits,tensor_list)\n",
    "        outcomes[ns, :] =  circuit_template(num_qubits, tensor_list, obs,qmps_structure=\"pollmann\", p_device = p_device, p_channel = p_channel, channel_basis =channel_basis)#circ_meas(circ, q, c, obs, num_qubits, p_device = p_device, p_channel = p_channel, channel_basis =channel_basis)\n",
    "    # combine the computational basis outcomes and the sampled unitaries\n",
    "    return (outcomes, unitary_ids)\n",
    "# getting a better estimation with \n",
    "\n",
    "def PT_moment(shadow, A_qubits, B_qubits, order = 2,obs = None):\n",
    "    '''\n",
    "    given:\n",
    "    shadow_list: a list of single qubit classical shadows\n",
    "    Renyi_index: an integer\n",
    "    A_qubits: a list of qubits that region A is consist of \n",
    "    B_qubits: a list of qubits that region B is consist of \n",
    "    calculate the PT moment\n",
    "    '''\n",
    "    estimate = 0\n",
    "    qubit_list = A_qubits + B_qubits\n",
    "    Nu = len(shadow[0])\n",
    "    rho_1, rho_2, rho_3 = shadow_state_reconstruction(shadow, qubit_list, transposed = A_qubits,obs = obs)\n",
    "    if obs!= None:\n",
    "        Nu = len(shadow[0])* len(obs)\n",
    "    if order ==3:\n",
    "        PT = (np.einsum('ab,bc,ca', rho_1, rho_1,rho_1) - 3*np.einsum('ab,ba', rho_1,rho_2, ) + 2*np.einsum('aa', rho_3))/(Nu*(Nu-1)*(Nu-2))\n",
    "    else: \n",
    "        PT = (np.einsum('ab,ba', rho_1, rho_1) - np.einsum('aa', rho_2, ))/(Nu*(Nu-1))\n",
    "    return PT\n",
    "\n",
    "\n",
    "PT_shadow = []\n",
    "qubit_list = list(np.arange(num_qubits))\n",
    "b = 'X'\n",
    "p_channel = 0.05 #channeling strength\n",
    "p_device = 0 #device noise strength\n",
    "num_snapshots = 20000 # number of repeats in the circuit\n",
    "obs = [np.kron(np.identity(2**(i)), np.kron(np.array([[ 0.,  1.,],[ 1,  0]]),np.identity(2**(num_qubits-i-1)))) for i in range(num_qubits)] # the observables; we make use of the translational invariance in post-processing and thus create a list\n",
    "\n",
    "def XX_estimation(tensor_list, num_snapshots, num_qubits, obs = obs, p_device = p_device, p_channel = p_channel, channel_basis =b):\n",
    "    PT_average = np.zeros(num_qubits)\n",
    "    shadow = calculate_classical_shadow(cft_circ, tensor_list, num_snapshots, num_qubits, p_device = p_device, p_channel = p_channel, channel_basis =b)\n",
    "    print('completed shadow simulation, '+ f' lapse of time: {time.time()-t0}s')\n",
    "\n",
    "    i = 0\n",
    "    A_qubits = qubit_list[:i] #qubits that we transpose; none in this case\n",
    "    B_qubits = qubit_list[i:]\n",
    "    XX = PT_moment(shadow, A_qubits,B_qubits,order = 2,obs = obs)\n",
    "    norm = PT_moment(shadow, A_qubits,B_qubits,order = 2,obs = None)\n",
    "    print(f'completed PT calculation, lapse of time: {time.time()-t0}s')\n",
    "    return XX/norm\n",
    "\n"
   ]
  },
  {
   "cell_type": "markdown",
   "id": "d6a82268-c162-467c-927d-39ed527f1b0b",
   "metadata": {},
   "source": [
    "## Comparing to ED calculation"
   ]
  },
  {
   "cell_type": "code",
   "execution_count": 316,
   "id": "343659ec-0d16-4782-b2cc-073159fb04c7",
   "metadata": {},
   "outputs": [
    {
     "name": "stdout",
     "output_type": "stream",
     "text": [
      "completed shadow simulation,  lapse of time: 76.36582899093628s\n",
      "completed PT calculation, lapse of time: 226.60324811935425s\n",
      "completed shadow simulation,  lapse of time: 301.71218395233154s\n",
      "completed PT calculation, lapse of time: 443.3884630203247s\n",
      "completed shadow simulation,  lapse of time: 517.2374269962311s\n",
      "completed PT calculation, lapse of time: 660.9037640094757s\n",
      "completed shadow simulation,  lapse of time: 734.0984580516815s\n",
      "completed PT calculation, lapse of time: 885.7114200592041s\n"
     ]
    }
   ],
   "source": [
    "t0= time.time()\n",
    "b = 'X'\n",
    "p_list = [0.05*i for i in range (1,5)]\n",
    "XX_shadow = [XX_estimation(tensor_list, num_snapshots, num_qubits, obs = obs,p_device = p_device, p_channel =p_channel, channel_basis =b) for p_channel in p_list]"
   ]
  },
  {
   "cell_type": "code",
   "execution_count": 325,
   "id": "f719b95c-273b-408b-abc4-7f0f075a8c11",
   "metadata": {},
   "outputs": [
    {
     "data": {
      "text/plain": [
       "'x'"
      ]
     },
     "execution_count": 325,
     "metadata": {},
     "output_type": "execute_result"
    }
   ],
   "source": [
    "b.lower()"
   ]
  },
  {
   "cell_type": "code",
   "execution_count": 321,
   "id": "c416e2f3-a5f5-445a-90e0-cb0730ed6fb2",
   "metadata": {},
   "outputs": [],
   "source": [
    "sub_size = num_qubits\n",
    "XX_ED = [pt_moment_normalized(num_qubits,sub_size,tp_size = 0,order = 2,basis = 'x',p = p_channel, ob= np.array([[ 0.,  1.,],[ 1,  0]])) for p_channel in p_list]\n",
    "#plt.scatter(np.log(np.sin(np.pi*np.arange(4)/6)),-1/2*np.log(np.array(Est_z)/Est_z[0]),marker = '^',s = 88)"
   ]
  },
  {
   "cell_type": "code",
   "execution_count": 324,
   "id": "53d15d3e-f011-403d-9b3d-2cecc04b2346",
   "metadata": {},
   "outputs": [
    {
     "data": {
      "text/plain": [
       "Text(0.5, 1.0, 'tr($\\\\rho X \\\\rho X$)/tr($\\\\rho \\\\rho$), L = 6,20000 shots')"
      ]
     },
     "execution_count": 324,
     "metadata": {},
     "output_type": "execute_result"
    },
    {
     "data": {
      "image/png": "[encoded data removed]",
      "text/plain": [
       "<Figure size 640x480 with 1 Axes>"
      ]
     },
     "metadata": {},
     "output_type": "display_data"
    }
   ],
   "source": [
    "plt.scatter(p_list,XX_shadow)\n",
    "plt.plot(p_list,XX_ED)\n",
    "plt.title(rf'tr($\\rho X \\rho X$)/tr($\\rho \\rho$), L = {num_qubits},{num_snapshots} shots')"
   ]
  },
  {
   "cell_type": "code",
   "execution_count": null,
   "id": "f0abacd2-1992-4fc4-96bb-09eb575d8a46",
   "metadata": {},
   "outputs": [],
   "source": []
  }
 ],
 "metadata": {
  "kernelspec": {
   "display_name": "Python 3 (ipykernel)",
   "language": "python",
   "name": "python3"
  },
  "language_info": {
   "codemirror_mode": {
    "name": "ipython",
    "version": 3
   },
   "file_extension": ".py",
   "mimetype": "text/x-python",
   "name": "python",
   "nbconvert_exporter": "python",
   "pygments_lexer": "ipython3",
   "version": "3.11.9"
  }
 },
 "nbformat": 4,
 "nbformat_minor": 5
}
